{
  "nbformat": 4,
  "nbformat_minor": 0,
  "metadata": {
    "colab": {
      "provenance": [],
      "authorship_tag": "ABX9TyOz+3RN62ntLKokUe8pzbWD",
      "include_colab_link": true
    },
    "kernelspec": {
      "name": "python3",
      "display_name": "Python 3"
    },
    "language_info": {
      "name": "python"
    }
  },
  "cells": [
    {
      "cell_type": "markdown",
      "metadata": {
        "id": "view-in-github",
        "colab_type": "text"
      },
      "source": [
        "<a href=\"https://colab.research.google.com/github/ChitrarthVasdev/task-1-Data-Cleaning-and-Preprocessing/blob/main/Datacleaningandpreprocess.ipynb\" target=\"_parent\"><img src=\"https://colab.research.google.com/assets/colab-badge.svg\" alt=\"Open In Colab\"/></a>"
      ]
    },
    {
      "cell_type": "markdown",
      "source": [
        "TASK 1 : DATA CLEANING AND PREPROCESSING\n",
        "\n",
        "DOMAIN : DATA ANALYST\n",
        "\n",
        "LANGUAGE : PYTHON\n"
      ],
      "metadata": {
        "id": "tgKgtlknhswx"
      }
    },
    {
      "cell_type": "code",
      "execution_count": 4,
      "metadata": {
        "colab": {
          "base_uri": "https://localhost:8080/"
        },
        "id": "_jxlkU6jfsHe",
        "outputId": "a45227d7-13a5-47f3-aac3-1dc739b6440d"
      },
      "outputs": [
        {
          "output_type": "stream",
          "name": "stdout",
          "text": [
            " Missing values BEFORE handling:\n",
            "show_id            0\n",
            "type               0\n",
            "title              0\n",
            "director        2634\n",
            "cast             825\n",
            "country          831\n",
            "date_added        10\n",
            "release_year       0\n",
            "rating             4\n",
            "duration           3\n",
            "listed_in          0\n",
            "description        0\n",
            "dtype: int64\n",
            " Missing values AFTER handling:\n",
            "show_id         0\n",
            "type            0\n",
            "title           0\n",
            "director        0\n",
            "cast            0\n",
            "country         0\n",
            "date_added      0\n",
            "release_year    0\n",
            "rating          0\n",
            "duration        0\n",
            "listed_in       0\n",
            "description     0\n",
            "dtype: int64\n",
            " =>  Cleaned dataset saved as 'netflix_cleaned.csv'\n"
          ]
        }
      ],
      "source": [
        "import pandas as pd\n",
        "\n",
        "# 1. Load the dataset\n",
        "df = pd.read_excel(\"/content/netflix_titles.csv.xlsx\")\n",
        "\n",
        "# 2. Identify missing values before handling\n",
        "print(\" Missing values BEFORE handling:\")\n",
        "print(df.isnull().sum())\n",
        "\n",
        "#  Handle missing values\n",
        "df['director'] = df['director'].fillna('Unknown')\n",
        "df['cast'] = df['cast'].fillna('Unknown')\n",
        "df['country'] = df['country'].fillna('Unknown')\n",
        "df['rating'] = df['rating'].fillna('Not Rated')\n",
        "df['duration'] = df['duration'].fillna('Unknown')\n",
        "df = df.dropna(subset=['date_added'])  # Drop rows where date is missing\n",
        "\n",
        "\n",
        "#  Confirm missing values are handled\n",
        "print(\" Missing values AFTER handling:\")\n",
        "print(df.isnull().sum())\n",
        "\n",
        "\n",
        "# 3. Remove duplicate rows\n",
        "df = df.drop_duplicates()\n",
        "\n",
        "\n",
        "# 4. Standardize text fields (strip and title case)\n",
        "for col in ['type', 'country', 'rating']:\n",
        "    df[col] = df[col].astype(str).str.strip().str.title()\n",
        "\n",
        "\n",
        "# 5. Convert 'date_added' to datetime format (dd-mm-yyyy)\n",
        "df['date_added'] = pd.to_datetime(df['date_added'], errors='coerce')\n",
        "df['date_added'] = df['date_added'].dt.strftime('%d-%m-%Y')  # Optional: format as string\n",
        "\n",
        "\n",
        "# 6. Clean column headers (lowercase, no spaces)\n",
        "df.columns = df.columns.str.strip().str.lower().str.replace(\" \", \"_\")\n",
        "\n",
        "\n",
        "# 7. Check and fix data types\n",
        "df['release_year'] = df['release_year'].astype(int)\n",
        "\n",
        "# 8. Save the cleaned dataset\n",
        "df.to_csv(\"netflix_cleaned.csv\", index=False)\n",
        "\n",
        "print(\" =>  Cleaned dataset saved as 'netflix_cleaned.csv'\")\n"
      ]
    }
  ]
}